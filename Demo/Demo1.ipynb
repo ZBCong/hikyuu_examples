{
 "cells": [
  {
   "cell_type": "code",
   "execution_count": 8,
   "metadata": {
    "collapsed": false
   },
   "outputs": [
    {
     "name": "stdout",
     "output_type": "stream",
     "text": [
      "Wall time: 0 ns\n"
     ]
    }
   ],
   "source": [
    "%matplotlib inline\n",
    "%time from hikyuu.interactive.interactive import *\n",
    "\n",
    "#use_draw_engine('echarts')"
   ]
  },
  {
   "cell_type": "markdown",
   "metadata": {},
   "source": [
    "# 一、策略分析\n",
    "\n",
    "## 原始描述\n",
    "\n",
    "买入条件：周线MACD零轴下方底部金叉买入30%\n",
    "\n",
    "卖出条件：日线级别 跌破 20日线 卖出50%持仓\n",
    "\n",
    "\n",
    "## 策略分析\n",
    "\n",
    "市场环境：无\n",
    "\n",
    "系统有效性：无\n",
    "\n",
    "信号指示器：\n",
    "- 买入信号：周线MACD零轴下方底部金叉，即周线的DIF>DEA金叉时买入（快线：DIF，慢线DEA）\n",
    "- 卖出信号：日线级别 跌破 20日均线\n",
    "\n",
    "止损/止盈：无\n",
    "\n",
    "资金管理：\n",
    "- 买入：30% （不明确，暂且当做当前现金的30%）\n",
    "- 卖出：已持仓股票数的50%\n",
    "\n",
    "盈利目标：\n",
    "\n",
    "移滑价差：\n"
   ]
  },
  {
   "cell_type": "markdown",
   "metadata": {},
   "source": [
    "# 二、实现系统部件\n",
    "\n",
    "## 定义信号指示器"
   ]
  },
  {
   "cell_type": "code",
   "execution_count": 9,
   "metadata": {
    "collapsed": true
   },
   "outputs": [],
   "source": [
    "def getNextWeekDate(week):\n",
    "    \"\"\"获取指定日期的下一周起始日期\"\"\"\n",
    "    from datetime import timedelta\n",
    "    py_week = week.datetime()\n",
    "    next_week_start = py_week + timedelta(days = 7 - py_week.weekday())\n",
    "    return Datetime(next_week_start)"
   ]
  },
  {
   "cell_type": "code",
   "execution_count": 10,
   "metadata": {
    "collapsed": false
   },
   "outputs": [],
   "source": [
    "def DEMO_SG(self):\n",
    "    \"\"\"\n",
    "    买入信号：周线MACD零轴下方底部金叉，即周线的DIF>DEA金叉时买入\n",
    "    卖出信号：日线级别 跌破 20日均线\n",
    "    \n",
    "    参数：\n",
    "    week_macd_n1：周线dif窗口\n",
    "    week_macd_n2: 周线dea窗口\n",
    "    week_macd_n3: 周线macd平滑窗口\n",
    "    day_n: 日均线窗口\n",
    "    \"\"\"\n",
    "    k = self.getTO()\n",
    "    if (len(k) == 0):\n",
    "        return\n",
    "    \n",
    "    stk = k.getStock()\n",
    "    \n",
    "    #-----------------------------\n",
    "    #计算日线级别的卖出信号        \n",
    "    #-----------------------------\n",
    "    day_c = CLOSE(k)\n",
    "    day_ma = MA(day_c, self.getParam(\"day_n\"))\n",
    "    day_x = day_c < day_ma  #收盘价小于均线\n",
    "    for i in range(day_x.discard, len(day_x)):\n",
    "        if day_x[i] >= 1.0:\n",
    "            self._addSellSignal(k[i].datetime)\n",
    "\n",
    "    #-----------------------------\n",
    "    #计算周线级别的买入信号        \n",
    "    #-----------------------------\n",
    "    week_q = QueryByDate(k[0].datetime, k[-1].datetime, kType=Query.WEEK)\n",
    "    week_k = k.getStock().getKData(week_q)\n",
    "    \n",
    "    n1 = self.getParam(\"week_macd_n1\")\n",
    "    n2 = self.getParam(\"week_macd_n2\")\n",
    "    n3 = self.getParam(\"week_macd_n3\")\n",
    "    m = MACD(CLOSE(week_k), n1, n2, n3)\n",
    "    fast = m.getResult(0)\n",
    "    slow = m.getResult(1)\n",
    "    \n",
    "    discard = m.discard if m.discard > 1 else 1\n",
    "    for i in range(discard, len(m)):\n",
    "        if (fast[i-1] < slow[i-1] and fast[i] > slow[i]):\n",
    "            #当周计算的结果，只能作为下周一的信号\n",
    "            self._addBuySignal(getNextWeekDate(week_k[i].datetime))\n",
    "         "
   ]
  },
  {
   "cell_type": "markdown",
   "metadata": {},
   "source": [
    "## 定义资金管理策略"
   ]
  },
  {
   "cell_type": "code",
   "execution_count": 11,
   "metadata": {
    "collapsed": true
   },
   "outputs": [],
   "source": [
    "class DEMO_MM(MoneyManagerBase):\n",
    "    \"\"\"\n",
    "    买入：30% （不明确，暂且当做当前现金的30%）\n",
    "    卖出：已持仓股票数的50%\n",
    "    \"\"\"\n",
    "    def __init__(self):\n",
    "        super(DEMO_MM, self).__init__(\"MACD_MM\")\n",
    "        \n",
    "    def _reset(self):\n",
    "        pass\n",
    "    \n",
    "    def _clone(self):\n",
    "        return DEMO_MM()\n",
    "        \n",
    "    def _getBuyNumber(self, datetime, stk, price, risk, part_from):\n",
    "        tm = self.getTM()\n",
    "        cash = tm.currentCash\n",
    "        \n",
    "        #返回类型必须是int\n",
    "        num = int((cash * 0.3 // price // stk.atom) * stk.atom)\n",
    "        #print(\"buy: \", num)\n",
    "        return num\n",
    "    \n",
    "    def _getSellNumber(self, datetime, stk, price, risk, part_from):\n",
    "        tm = self.getTM()\n",
    "        position = tm.getPosition(stk)\n",
    "        total_num = position.number\n",
    "        num = total_num * 0.5\n",
    "        atom_num = (num // stk.atom) * (stk.atom + 1) #卖多点\n",
    "        \n",
    "        #返回类型必须是int\n",
    "        num = int(num if num < atom_num else atom_num)\n",
    "        #print(\"sell: \", num)\n",
    "        return num\n",
    "        "
   ]
  },
  {
   "cell_type": "markdown",
   "metadata": {},
   "source": [
    "# 三、构建并运行系统\n",
    "\n",
    "## 设定系统参数\n"
   ]
  },
  {
   "cell_type": "code",
   "execution_count": 12,
   "metadata": {
    "collapsed": true
   },
   "outputs": [],
   "source": [
    "#账户参数\n",
    "init_cash = 100000 #账户初始资金\n",
    "init_date = Datetime('1990-1-1') #账户建立日期\n",
    "\n",
    "#信号指示器参数\n",
    "week_n1 = 12\n",
    "week_n2 = 26\n",
    "week_n3 = 9\n",
    "day_n = 20\n",
    "\n",
    "#选定标的，及测试区间\n",
    "stk = sm['sz000001']\n",
    "start_date = Datetime('2017-01-01')  #如果是同一级别K线，可以使用索引号，使用了不同级别的K线数据，建议还是使用日期作为参数\n",
    "end_date = Datetime()"
   ]
  },
  {
   "cell_type": "markdown",
   "metadata": {},
   "source": [
    "## 构建系统实例"
   ]
  },
  {
   "cell_type": "code",
   "execution_count": 13,
   "metadata": {
    "collapsed": false
   },
   "outputs": [],
   "source": [
    "#创建账户\n",
    "my_tm = crtTM(datetime=init_date, initCash = init_cash)\n",
    "\n",
    "#创建系统实例\n",
    "my_sys = SYS_Simple()\n",
    "\n",
    "#绑定账户\n",
    "my_sys.tm = my_tm\n",
    "\n",
    "#绑定信号指示器\n",
    "my_sys.sg = crtSG(DEMO_SG, \n",
    "              {'week_macd_n1': week_n1, 'week_macd_n2': week_n2, 'week_macd_n3': week_n3, 'day_n': day_n}, \n",
    "                'DEMO_SG') \n",
    "\n",
    "#绑定资金管理策略\n",
    "my_sys.mm = DEMO_MM()"
   ]
  },
  {
   "cell_type": "markdown",
   "metadata": {},
   "source": [
    "## 运行系统"
   ]
  },
  {
   "cell_type": "code",
   "execution_count": 14,
   "metadata": {
    "collapsed": false
   },
   "outputs": [],
   "source": [
    "q = QueryByDate(start_date, end_date, kType=Query.DAY)\n",
    "my_sys.run(stk, q)\n",
    "\n",
    "#将交易记录及持仓情况，保存在临时目录，可用Excel查看\n",
    "#临时目录一般设置在数据所在目录下的 tmp 子目录\n",
    "#如果打开了excel记录，再次运行系统前，记得先关闭excel文件，否则新的结果没法保存\n",
    "my_tm.tocsv(sm.tmpdir())"
   ]
  },
  {
   "cell_type": "markdown",
   "metadata": {},
   "source": [
    "# 四、查看资金曲线及绩效统计"
   ]
  },
  {
   "cell_type": "code",
   "execution_count": 15,
   "metadata": {
    "collapsed": false
   },
   "outputs": [
    {
     "data": {
      "image/png": "[encoded data removed]",
      "text/plain": [
       "<matplotlib.figure.Figure at 0x2388d77dba8>"
      ]
     },
     "metadata": {},
     "output_type": "display_data"
    }
   ],
   "source": [
    "#绘制资金收益曲线（净收益）\n",
    "x = my_tm.getProfitCurve(stk.getDatetimeList(q), KQuery.DAY)\n",
    "#x = my_tm.getFundsCurve(stk.getDatetimeList(q), KQuery.DAY) #总资产曲线\n",
    "x = PRICELIST(x)\n",
    "x.plot()"
   ]
  },
  {
   "cell_type": "code",
   "execution_count": 16,
   "metadata": {
    "collapsed": false
   },
   "outputs": [
    {
     "name": "stdout",
     "output_type": "stream",
     "text": [
      "帐户初始金额: 100000.00\n",
      "累计投入本金: 100000.00\n",
      "累计投入资产: 0.00\n",
      "累计借入现金: 0.00\n",
      "累计借入资产: 0.00\n",
      "累计红利: 0.00\n",
      "现金余额: 70040.00\n",
      "未平仓头寸净值: 51520.00\n",
      "当前总资产: 121560.00\n",
      "已平仓交易总成本: 0.00\n",
      "已平仓净利润总额: 0.00\n",
      "单笔交易最大占用现金比例%: 29.96\n",
      "交易平均占用现金比例%: 29.96\n",
      "已平仓帐户收益率%: 0.00\n",
      "帐户年复合收益率%: 31.81\n",
      "帐户平均年收益率%: 30.50\n",
      "赢利交易赢利总额: 0.00\n",
      "亏损交易亏损总额: 0.00\n",
      "已平仓交易总数: 0.00\n",
      "赢利交易数: 0.00\n",
      "亏损交易数: 0.00\n",
      "赢利交易比例%: 0.00\n",
      "赢利期望值: 0.00\n",
      "赢利交易平均赢利: 0.00\n",
      "亏损交易平均亏损: 0.00\n",
      "平均赢利/平均亏损比例: 0.00\n",
      "净赢利/亏损比例: 0.00\n",
      "最大单笔赢利: 0.00\n",
      "最大单笔亏损: 0.00\n",
      "赢利交易平均持仓时间: 0.00\n",
      "赢利交易最大持仓时间: 0.00\n",
      "亏损交易平均持仓时间: 0.00\n",
      "亏损交易最大持仓时间: 0.00\n",
      "空仓总时间: 259.00\n",
      "空仓时间/总时间%: 100.00\n",
      "平均空仓时间: 259.00\n",
      "最长空仓时间: 258.00\n",
      "最大连续赢利笔数: 0.00\n",
      "最大连续亏损笔数: 0.00\n",
      "最大连续赢利金额: 0.00\n",
      "最大连续亏损金额: 0.00\n",
      "R乘数期望值: 0.00\n",
      "交易机会频率/年: 0.00\n",
      "年度期望R乘数: 0.00\n",
      "赢利交易平均R乘数: 0.00\n",
      "亏损交易平均R乘数: 0.00\n",
      "最大单笔赢利R乘数: 0.00\n",
      "最大单笔亏损R乘数: 0.00\n",
      "最大连续赢利R乘数: 0.00\n",
      "最大连续亏损R乘数: 0.00\n",
      "\n"
     ]
    }
   ],
   "source": [
    "#回测统计\n",
    "per = Performance()\n",
    "print(per.report(my_tm, Datetime.now()))"
   ]
  },
  {
   "cell_type": "markdown",
   "metadata": {},
   "source": [
    "# 五、或许想看下图形"
   ]
  },
  {
   "cell_type": "code",
   "execution_count": 17,
   "metadata": {
    "collapsed": false
   },
   "outputs": [
    {
     "data": {
      "image/png": "[encoded data removed]",
      "text/plain": [
       "<matplotlib.figure.Figure at 0x2388d77d7f0>"
      ]
     },
     "metadata": {},
     "output_type": "display_data"
    }
   ],
   "source": [
    "my_sys.plot()\n",
    "MA(CLOSE(my_sys.getTO()), 20).plot(new=False)"
   ]
  },
  {
   "cell_type": "markdown",
   "metadata": {},
   "source": [
    "# 六、或许想看看所有股票的情况"
   ]
  },
  {
   "cell_type": "code",
   "execution_count": 18,
   "metadata": {
    "collapsed": false
   },
   "outputs": [
    {
     "name": "stdout",
     "output_type": "stream",
     "text": [
      "Wall time: 6.77 s\n"
     ]
    }
   ],
   "source": [
    "import pandas as pd\n",
    "def calTotal(blk, q):\n",
    "    per = Performance()\n",
    "    s_name = []\n",
    "    s_code = []\n",
    "    x = []\n",
    "    for stk in blk:\n",
    "        my_sys.run(stk, q)\n",
    "        per.statistics(my_tm, Datetime.now())\n",
    "        s_name.append(stk.name)\n",
    "        s_code.append(stk.market_code)\n",
    "        x.append(per.get(\"当前总资产\".encode('gb2312')))\n",
    "    return pd.DataFrame({'代码': s_code, '股票': s_name, '当前总资产': x})\n",
    "\n",
    "%time data = calTotal(blocka, q)"
   ]
  },
  {
   "cell_type": "code",
   "execution_count": 19,
   "metadata": {
    "collapsed": false
   },
   "outputs": [
    {
     "data": {
      "text/html": [
       "<div>\n",
       "<table border=\"1\" class=\"dataframe\">\n",
       "  <thead>\n",
       "    <tr style=\"text-align: right;\">\n",
       "      <th></th>\n",
       "      <th>代码</th>\n",
       "      <th>当前总资产</th>\n",
       "      <th>股票</th>\n",
       "    </tr>\n",
       "  </thead>\n",
       "  <tbody>\n",
       "    <tr>\n",
       "      <th>0</th>\n",
       "      <td>SH600103</td>\n",
       "      <td>100000.0</td>\n",
       "      <td>青山纸业</td>\n",
       "    </tr>\n",
       "    <tr>\n",
       "      <th>1</th>\n",
       "      <td>SH601588</td>\n",
       "      <td>100000.0</td>\n",
       "      <td>北辰实业</td>\n",
       "    </tr>\n",
       "    <tr>\n",
       "      <th>2</th>\n",
       "      <td>SH600770</td>\n",
       "      <td>98404.0</td>\n",
       "      <td>综艺股份</td>\n",
       "    </tr>\n",
       "    <tr>\n",
       "      <th>3</th>\n",
       "      <td>SZ300667</td>\n",
       "      <td>100000.0</td>\n",
       "      <td>必创科技</td>\n",
       "    </tr>\n",
       "    <tr>\n",
       "      <th>4</th>\n",
       "      <td>SH603708</td>\n",
       "      <td>100000.0</td>\n",
       "      <td>家家悦</td>\n",
       "    </tr>\n",
       "    <tr>\n",
       "      <th>5</th>\n",
       "      <td>SH600990</td>\n",
       "      <td>91132.0</td>\n",
       "      <td>四创电子</td>\n",
       "    </tr>\n",
       "    <tr>\n",
       "      <th>6</th>\n",
       "      <td>SH600083</td>\n",
       "      <td>100000.0</td>\n",
       "      <td>博信股份</td>\n",
       "    </tr>\n",
       "    <tr>\n",
       "      <th>7</th>\n",
       "      <td>SH600102</td>\n",
       "      <td>100000.0</td>\n",
       "      <td>莱钢股份</td>\n",
       "    </tr>\n",
       "    <tr>\n",
       "      <th>8</th>\n",
       "      <td>SH600771</td>\n",
       "      <td>100000.0</td>\n",
       "      <td>广誉远</td>\n",
       "    </tr>\n",
       "    <tr>\n",
       "      <th>9</th>\n",
       "      <td>SZ300666</td>\n",
       "      <td>100000.0</td>\n",
       "      <td>江丰电子</td>\n",
       "    </tr>\n",
       "  </tbody>\n",
       "</table>\n",
       "</div>"
      ],
      "text/plain": [
       "         代码     当前总资产    股票\n",
       "0  SH600103  100000.0  青山纸业\n",
       "1  SH601588  100000.0  北辰实业\n",
       "2  SH600770   98404.0  综艺股份\n",
       "3  SZ300667  100000.0  必创科技\n",
       "4  SH603708  100000.0   家家悦\n",
       "5  SH600990   91132.0  四创电子\n",
       "6  SH600083  100000.0  博信股份\n",
       "7  SH600102  100000.0  莱钢股份\n",
       "8  SH600771  100000.0   广誉远\n",
       "9  SZ300666  100000.0  江丰电子"
      ]
     },
     "execution_count": 19,
     "metadata": {},
     "output_type": "execute_result"
    }
   ],
   "source": [
    "#保存到CSV文件\n",
    "#data.to_csv(sm.tmpdir() + '/统计.csv')\n",
    "data[:10]"
   ]
  },
  {
   "cell_type": "code",
   "execution_count": null,
   "metadata": {
    "collapsed": true
   },
   "outputs": [],
   "source": []
  }
 ],
 "metadata": {
  "kernelspec": {
   "display_name": "Python [default]",
   "language": "python",
   "name": "python3"
  },
  "language_info": {
   "codemirror_mode": {
    "name": "ipython",
    "version": 3
   },
   "file_extension": ".py",
   "mimetype": "text/x-python",
   "name": "python",
   "nbconvert_exporter": "python",
   "pygments_lexer": "ipython3",
   "version": "3.5.3"
  }
 },
 "nbformat": 4,
 "nbformat_minor": 2
}
