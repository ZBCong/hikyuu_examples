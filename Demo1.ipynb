{
 "cells": [
  {
   "cell_type": "code",
   "execution_count": 1,
   "metadata": {
    "collapsed": false
   },
   "outputs": [
    {
     "name": "stdout",
     "output_type": "stream",
     "text": [
      "Wall time: 7.32 s\n"
     ]
    }
   ],
   "source": [
    "%matplotlib inline\n",
    "%time from hikyuu.interactive.interactive import *\n",
    "import datetime\n",
    "#use_draw_engine('echarts')"
   ]
  },
  {
   "cell_type": "markdown",
   "metadata": {},
   "source": [
    "# 策略分析\n",
    "\n",
    "## 原始描述\n",
    "\n",
    "买入条件：周线MACD零轴下方底部金叉买入30%\n",
    "\n",
    "卖出条件：日线级别 跌破 20日线 卖出50%持仓\n",
    "\n",
    "\n",
    "## 策略分析\n",
    "\n",
    "市场环境：无\n",
    "\n",
    "系统有效性：无\n",
    "\n",
    "信号指示器：\n",
    "- 买入信号：周线MACD零轴下方底部金叉，即周线的DIF>DEA金叉时买入（快线：DIF，慢线DEA）\n",
    "- 卖出信号：日线级别 跌破 20日均线\n",
    "\n",
    "止损/止盈：无\n",
    "\n",
    "资金管理：\n",
    "- 买入：30% （不明确，暂且当做当前现金的30%）\n",
    "- 卖出：已持仓股票数的50%\n",
    "\n",
    "盈利目标：\n",
    "\n",
    "移滑价差：\n"
   ]
  },
  {
   "cell_type": "markdown",
   "metadata": {},
   "source": [
    "# 定义信号指示器"
   ]
  },
  {
   "cell_type": "code",
   "execution_count": 33,
   "metadata": {
    "collapsed": false
   },
   "outputs": [],
   "source": [
    "def DEMO_SG(self):\n",
    "    \"\"\"\n",
    "    买入信号：周线MACD零轴下方底部金叉，即周线的DIF>DEA金叉时买入\n",
    "    卖出信号：日线级别 跌破 20日均线\n",
    "    \n",
    "    参数：\n",
    "    week_macd_n1：周线dif窗口\n",
    "    week_macd_n2: 周线dea窗口\n",
    "    week_macd_n3: 周线macd平滑窗口\n",
    "    day_n: 日均线窗口\n",
    "    \"\"\"\n",
    "    k = self.getTO()\n",
    "    if (len(k) == 0):\n",
    "        return\n",
    "    \n",
    "    stk = k.getStock()\n",
    "    \n",
    "    #-----------------------------\n",
    "    #计算日线级别的卖出信号        \n",
    "    #-----------------------------\n",
    "    day_c = CLOSE(k)\n",
    "    day_ma = MA(day_c, self.getParam(\"day_n\"))\n",
    "    day_x = day_c < day_ma  #收盘价小于均线\n",
    "    for i in range(day_x.discard, len(day_x)):\n",
    "        if day_x[i] >= 1.0:\n",
    "            self._addSellSignal(k[i].datetime)\n",
    "            #print(\"sell:\", k[i].datetime)\n",
    "\n",
    "    #-----------------------------\n",
    "    #计算周线级别的买入信号        \n",
    "    #-----------------------------\n",
    "    #需重新利用日K线的查询条件，构建周线查询条件\n",
    "    #这里如果用的是hikyuu hdf5的周线数据没问题，如果是其他或自己的数据存储引擎，这里要注意！\n",
    "    #hikyuu的周线用的是一周的周一生成的Bar，所以QueryByDate使用K[-1].datetime没有问题。\n",
    "    #而直接使用通达信的周线，则有未来的问题，因为通达信的周线使用的是一周周五的日期\n",
    "    week_q = QueryByDate(k[0].datetime, k[-1].datetime, kType=Query.WEEK)\n",
    "    week_k = k.getStock().getKData(week_q)\n",
    "    \n",
    "    n1 = self.getParam(\"week_macd_n1\")\n",
    "    n2 = self.getParam(\"week_macd_n2\")\n",
    "    n3 = self.getParam(\"week_macd_n3\")\n",
    "    m = MACD(CLOSE(week_k), n1, n2, n3)\n",
    "    fast = m.getResult(0)\n",
    "    slow = m.getResult(1)\n",
    "    \n",
    "    discard = m.discard if m.discard > 1 else 1\n",
    "    for i in range(discard, len(m)):\n",
    "        #print(i)\n",
    "        if (fast[i-1] < slow[i-1] and fast[i] > slow[i]):\n",
    "            self._addBuySignal(week_k[i].datetime)\n",
    "            #print(\"buy: \", stk.name, k[i].datetime, len(m), i)\n",
    "          "
   ]
  },
  {
   "cell_type": "code",
   "execution_count": 34,
   "metadata": {
    "collapsed": false
   },
   "outputs": [],
   "source": [
    "stk = sm['sz000001']\n",
    "q = Query(-300, kType=Query.DAY) \n",
    "sg = crtSG(DEMO_SG, \n",
    "              {'week_macd_n1': 12, 'week_macd_n2': 26, 'week_macd_n3': 9, 'day_n': 20}, \n",
    "                'DEMO_SG')  \n",
    "sg.setTO(stk.getKData(q))"
   ]
  },
  {
   "cell_type": "markdown",
   "metadata": {},
   "source": [
    "# 定义资金管理策略"
   ]
  },
  {
   "cell_type": "code",
   "execution_count": 44,
   "metadata": {
    "collapsed": true
   },
   "outputs": [],
   "source": [
    "class DEMO_MM(MoneyManagerBase):\n",
    "    \"\"\"\n",
    "    买入：30% （不明确，暂且当做当前现金的30%）\n",
    "    卖出：已持仓股票数的50%\n",
    "    \"\"\"\n",
    "    def __init__(self):\n",
    "        super(DEMO_MM, self).__init__(\"MACD_MM\")\n",
    "        \n",
    "    def _reset(self):\n",
    "        pass\n",
    "    \n",
    "    def _clone(self):\n",
    "        return MACD_MM()\n",
    "        \n",
    "    def _getBuyNumber(self, datetime, stk, price, risk):\n",
    "        tm = self.getTM()\n",
    "        cash = tm.currentCash\n",
    "        \n",
    "        #返回类型必须是int\n",
    "        num = int((cash * 0.3 // price // stk.atom) * stk.atom)\n",
    "        #print(\"buy: \", num)\n",
    "        return num\n",
    "    \n",
    "    def _getSellNumber(self, datetime, stk, price, risk):\n",
    "        tm = self.getTM()\n",
    "        position = tm.getPosition(stk)\n",
    "        total_num = position.number\n",
    "        num = total_num * 0.5\n",
    "        atom_num = (num // stk.atom) * (stk.atom + 1) #卖多点\n",
    "        \n",
    "        #返回类型必须是int\n",
    "        num = int(num if num < atom_num else atom_num)\n",
    "        #print(\"sell: \", num)\n",
    "        return num\n",
    "        "
   ]
  },
  {
   "cell_type": "markdown",
   "metadata": {},
   "source": [
    "# 构建系统\n",
    "\n",
    "## 系统参数\n"
   ]
  },
  {
   "cell_type": "code",
   "execution_count": 45,
   "metadata": {
    "collapsed": true
   },
   "outputs": [],
   "source": [
    "#账户参数\n",
    "init_cash = 100000 #账户初始资金\n",
    "init_date = '1990-1-1' #账户建立日期\n",
    "\n",
    "#信号指示器参数\n",
    "week_n1 = 12\n",
    "week_n2 = 26\n",
    "week_n3 = 9\n",
    "day_n = 20\n"
   ]
  },
  {
   "cell_type": "markdown",
   "metadata": {},
   "source": [
    "## 构建系统实例"
   ]
  },
  {
   "cell_type": "code",
   "execution_count": 46,
   "metadata": {
    "collapsed": false
   },
   "outputs": [],
   "source": [
    "#创建模拟交易账户进行回测，初始资金30万\n",
    "my_tm = crtTM(datetime=Datetime(init_date), initCash = init_cash)\n",
    "\n",
    "#创建系统实例\n",
    "my_sys = SYS_Simple()\n",
    "\n",
    "my_sys.tm = my_tm\n",
    "my_sys.sg = crtSG(DEMO_SG, \n",
    "              {'week_macd_n1': week_n1, 'week_macd_n2': week_n2, 'week_macd_n3': week_n3, 'day_n': day_n}, \n",
    "                'DEMO_SG') \n",
    "my_sys.sg.setParam(\"alternate\", False)\n",
    "my_sys.mm = DEMO_MM()"
   ]
  },
  {
   "cell_type": "markdown",
   "metadata": {},
   "source": [
    "# 运行系统"
   ]
  },
  {
   "cell_type": "code",
   "execution_count": 49,
   "metadata": {
    "collapsed": false
   },
   "outputs": [],
   "source": [
    "#待测试对象及数据选择\n",
    "stk = sm['sz000002']\n",
    "q = Query(-3000, kType=Query.DAY) \n",
    "\n",
    "my_sys.run(stk, q)\n",
    "\n",
    "my_tm.tocsv(sm.tmpdir())"
   ]
  },
  {
   "cell_type": "code",
   "execution_count": 50,
   "metadata": {
    "collapsed": false
   },
   "outputs": [
    {
     "data": {
      "image/png": "[encoded data removed]",
      "text/plain": [
       "<matplotlib.figure.Figure at 0x2b383aca2e8>"
      ]
     },
     "metadata": {},
     "output_type": "display_data"
    }
   ],
   "source": [
    "#绘制资金收益曲线\n",
    "\n",
    "x = my_tm.getProfitCurve(stk.getDatetimeList(q), KQuery.DAY)\n",
    "x = PRICELIST(x)\n",
    "x.plot()"
   ]
  },
  {
   "cell_type": "code",
   "execution_count": 242,
   "metadata": {
    "collapsed": false
   },
   "outputs": [
    {
     "name": "stdout",
     "output_type": "stream",
     "text": [
      "1021660.42\n"
     ]
    }
   ],
   "source": [
    "#回测统计\n",
    "from datetime import datetime\n",
    "\n",
    "per = Performance()\n",
    "#print(per.report(my_tm, Datetime(datetime.today())))\n",
    "per.statistics(my_tm, Datetime.now())\n",
    "x = per.get(\"当前总资产\".encode('gb2312'))\n",
    "print(x)"
   ]
  },
  {
   "cell_type": "code",
   "execution_count": 51,
   "metadata": {
    "collapsed": false
   },
   "outputs": [],
   "source": [
    "def calTotal(blk, q):\n",
    "    per = Performance()\n",
    "    x = []\n",
    "    for stk in blk:\n",
    "        my_sys.run(stk, q)\n",
    "        per.statistics(my_tm, Datetime.now())\n",
    "        x.append(per.get(\"当前总资产\".encode('gb2312')))\n",
    "    return x\n",
    "\n",
    "x = calTotal(blocka, q)\n"
   ]
  },
  {
   "cell_type": "code",
   "execution_count": 52,
   "metadata": {
    "collapsed": false
   },
   "outputs": [],
   "source": [
    "y = PRICELIST(x).to_df()"
   ]
  },
  {
   "cell_type": "code",
   "execution_count": 53,
   "metadata": {
    "collapsed": false
   },
   "outputs": [
    {
     "data": {
      "text/html": [
       "<div>\n",
       "<table border=\"1\" class=\"dataframe\">\n",
       "  <thead>\n",
       "    <tr style=\"text-align: right;\">\n",
       "      <th></th>\n",
       "      <th>IndicatorImp</th>\n",
       "    </tr>\n",
       "  </thead>\n",
       "  <tbody>\n",
       "    <tr>\n",
       "      <th>count</th>\n",
       "      <td>3566.000000</td>\n",
       "    </tr>\n",
       "    <tr>\n",
       "      <th>mean</th>\n",
       "      <td>9.965680</td>\n",
       "    </tr>\n",
       "    <tr>\n",
       "      <th>std</th>\n",
       "      <td>0.760362</td>\n",
       "    </tr>\n",
       "    <tr>\n",
       "      <th>min</th>\n",
       "      <td>7.409241</td>\n",
       "    </tr>\n",
       "    <tr>\n",
       "      <th>25%</th>\n",
       "      <td>9.652344</td>\n",
       "    </tr>\n",
       "    <tr>\n",
       "      <th>50%</th>\n",
       "      <td>9.937806</td>\n",
       "    </tr>\n",
       "    <tr>\n",
       "      <th>75%</th>\n",
       "      <td>10.142511</td>\n",
       "    </tr>\n",
       "    <tr>\n",
       "      <th>max</th>\n",
       "      <td>23.280772</td>\n",
       "    </tr>\n",
       "  </tbody>\n",
       "</table>\n",
       "</div>"
      ],
      "text/plain": [
       "       IndicatorImp\n",
       "count   3566.000000\n",
       "mean       9.965680\n",
       "std        0.760362\n",
       "min        7.409241\n",
       "25%        9.652344\n",
       "50%        9.937806\n",
       "75%       10.142511\n",
       "max       23.280772"
      ]
     },
     "execution_count": 53,
     "metadata": {},
     "output_type": "execute_result"
    }
   ],
   "source": [
    "y = y / 10000\n",
    "y.describe()"
   ]
  },
  {
   "cell_type": "code",
   "execution_count": null,
   "metadata": {
    "collapsed": true
   },
   "outputs": [],
   "source": []
  }
 ],
 "metadata": {
  "kernelspec": {
   "display_name": "Python [default]",
   "language": "python",
   "name": "python3"
  },
  "language_info": {
   "codemirror_mode": {
    "name": "ipython",
    "version": 3
   },
   "file_extension": ".py",
   "mimetype": "text/x-python",
   "name": "python",
   "nbconvert_exporter": "python",
   "pygments_lexer": "ipython3",
   "version": "3.5.3"
  }
 },
 "nbformat": 4,
 "nbformat_minor": 2
}
